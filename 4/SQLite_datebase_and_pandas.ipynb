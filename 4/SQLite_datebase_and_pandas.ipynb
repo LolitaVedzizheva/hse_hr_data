{
 "cells": [
  {
   "cell_type": "markdown",
   "id": "objective-equipment",
   "metadata": {},
   "source": [
    "## SQLite и Pandas\n",
    "\n",
    "Сегодня мы поработаем над тем как извлекать данные из базы данных SQLite. Для начала импортируем нужные нам библиотечки."
   ]
  },
  {
   "cell_type": "code",
   "execution_count": 52,
   "id": "protective-clock",
   "metadata": {},
   "outputs": [],
   "source": [
    "import sqlite3\n",
    "import pandas as pd"
   ]
  },
  {
   "cell_type": "markdown",
   "id": "peaceful-notion",
   "metadata": {},
   "source": [
    "Напоминаю, что \"библиотека\" в питоне -- это просто .py-файлики, содержащие наборы функций и объектов, которые можно просто извлекать и использовать. \n",
    "\n",
    "Импортировав две библиотеки выше мы добавили их в нашу рабочую среду и теперь они готовы к использованию. \n",
    "\n",
    "Вы можете написать свои библиотеки для конкретных повторяющихся задач. Иногда это удобно. Иногда нет."
   ]
  },
  {
   "cell_type": "code",
   "execution_count": 53,
   "id": "latest-surgery",
   "metadata": {},
   "outputs": [],
   "source": [
    "# Создаем коннектор к файлу нашей базы данных. \n",
    "# Само собой, файлик Базы Данных должен лежать рядом с файлом блокнота (который вы сейчас читаете). \n",
    "con = sqlite3.connect('EmployeePoints.db')"
   ]
  },
  {
   "cell_type": "code",
   "execution_count": 54,
   "id": "psychological-circuit",
   "metadata": {},
   "outputs": [],
   "source": [
    "# Не спрашивайте\n",
    "cur = con.cursor()"
   ]
  },
  {
   "cell_type": "code",
   "execution_count": 57,
   "id": "regular-nutrition",
   "metadata": {},
   "outputs": [
    {
     "ename": "OperationalError",
     "evalue": "no such table: EmployeePoints",
     "output_type": "error",
     "traceback": [
      "\u001b[1;31m---------------------------------------------------------------------------\u001b[0m",
      "\u001b[1;31mOperationalError\u001b[0m                          Traceback (most recent call last)",
      "\u001b[1;32m<ipython-input-57-0e350d9c08f4>\u001b[0m in \u001b[0;36m<module>\u001b[1;34m\u001b[0m\n\u001b[0;32m      2\u001b[0m \u001b[1;31m# Здесь Python передает предложение SELECT в СУБД (в данном случае это библиотечка sqlite3) и выполняет его, а возвращает набор данных из таблицы (результат работы SELECT)\u001b[0m\u001b[1;33m\u001b[0m\u001b[1;33m\u001b[0m\u001b[1;33m\u001b[0m\u001b[0m\n\u001b[0;32m      3\u001b[0m \u001b[1;33m\u001b[0m\u001b[0m\n\u001b[1;32m----> 4\u001b[1;33m \u001b[0mcur\u001b[0m\u001b[1;33m.\u001b[0m\u001b[0mexecute\u001b[0m\u001b[1;33m(\u001b[0m\u001b[1;34m'SELECT * FROM EmployeePoints'\u001b[0m\u001b[1;33m)\u001b[0m\u001b[1;33m.\u001b[0m\u001b[0mfetchall\u001b[0m\u001b[1;33m(\u001b[0m\u001b[1;33m)\u001b[0m\u001b[1;33m\u001b[0m\u001b[1;33m\u001b[0m\u001b[0m\n\u001b[0m",
      "\u001b[1;31mOperationalError\u001b[0m: no such table: EmployeePoints"
     ]
    }
   ],
   "source": [
    "# Таким образом исполняется запрос к Базе Данных. \n",
    "# Здесь Python передает предложение SELECT в СУБД (в данном случае это библиотечка sqlite3) и выполняет его, а возвращает набор данных из таблицы (результат работы SELECT)\n",
    "\n",
    "cur.execute('SELECT * FROM EmployeePoints').fetchall()"
   ]
  },
  {
   "cell_type": "code",
   "execution_count": 9,
   "id": "everyday-pipeline",
   "metadata": {},
   "outputs": [
    {
     "data": {
      "text/plain": [
       "[(5.0, '2021-01-31', 'HR-admin'),\n",
       " (5.0, '2021-01-31', 'HR-analytics'),\n",
       " (5.0, '2021-01-31', 'IT'),\n",
       " (5.0, '2021-02-28', 'HR-analytics')]"
      ]
     },
     "execution_count": 9,
     "metadata": {},
     "output_type": "execute_result"
    }
   ],
   "source": [
    "# Можно выполнять и более сложные селекты\n",
    "\n",
    "cur.execute(\"\"\"\n",
    "\n",
    "    SELECT AVG(Score), Date, Department\n",
    "    FROM EmplScore as S\n",
    "    LEFT JOIN EmplDep as D\n",
    "    ON S.Name = D.Name\n",
    "    GROUP BY Department, Date\n",
    "    HAVING AVG(Score) > 3\n",
    "    ORDER BY Date\n",
    "\n",
    "\"\"\").fetchall()"
   ]
  },
  {
   "cell_type": "markdown",
   "id": "aboriginal-crack",
   "metadata": {},
   "source": [
    "# Pandas\n"
   ]
  },
  {
   "cell_type": "markdown",
   "id": "impossible-banner",
   "metadata": {},
   "source": [
    "В Пандасе есть встроенный метод read_sql для исполнения SQL-запросов. И он неплохо работает с SQLite.\n",
    "\n",
    "Обратите внимание на то, как мы передаем в него коннектор (объект con) для подключения к Базе Данных. \n",
    "\n",
    "Выражение 'df =' означает, что результат работы метода read_sql мы складываем в уже пандасовский объект с названием df."
   ]
  },
  {
   "cell_type": "code",
   "execution_count": 12,
   "id": "academic-childhood",
   "metadata": {},
   "outputs": [],
   "source": [
    "df = pd.read_sql(\"\"\"\n",
    "\n",
    "    SELECT AVG(Score), Date, Department\n",
    "    FROM EmplScore as S\n",
    "    LEFT JOIN EmplDep as D\n",
    "    ON S.Name = D.Name\n",
    "    GROUP BY Department, Date\n",
    "    HAVING AVG(Score) > 3\n",
    "    ORDER BY Date\n",
    "\n",
    "\"\"\", con)"
   ]
  },
  {
   "cell_type": "markdown",
   "id": "super-thumbnail",
   "metadata": {},
   "source": [
    "Мы извлекли из БД таблицу и сложили ее в пандас-датафрейм df (это уже объект в Python).\n",
    "\n",
    "Далее можем работать с ним как пожелаем."
   ]
  },
  {
   "cell_type": "code",
   "execution_count": 13,
   "id": "gorgeous-questionnaire",
   "metadata": {},
   "outputs": [
    {
     "data": {
      "text/html": [
       "<div>\n",
       "<style scoped>\n",
       "    .dataframe tbody tr th:only-of-type {\n",
       "        vertical-align: middle;\n",
       "    }\n",
       "\n",
       "    .dataframe tbody tr th {\n",
       "        vertical-align: top;\n",
       "    }\n",
       "\n",
       "    .dataframe thead th {\n",
       "        text-align: right;\n",
       "    }\n",
       "</style>\n",
       "<table border=\"1\" class=\"dataframe\">\n",
       "  <thead>\n",
       "    <tr style=\"text-align: right;\">\n",
       "      <th></th>\n",
       "      <th>AVG(Score)</th>\n",
       "      <th>Date</th>\n",
       "      <th>Department</th>\n",
       "    </tr>\n",
       "  </thead>\n",
       "  <tbody>\n",
       "    <tr>\n",
       "      <th>0</th>\n",
       "      <td>5.0</td>\n",
       "      <td>2021-01-31</td>\n",
       "      <td>HR-admin</td>\n",
       "    </tr>\n",
       "    <tr>\n",
       "      <th>1</th>\n",
       "      <td>5.0</td>\n",
       "      <td>2021-01-31</td>\n",
       "      <td>HR-analytics</td>\n",
       "    </tr>\n",
       "    <tr>\n",
       "      <th>2</th>\n",
       "      <td>5.0</td>\n",
       "      <td>2021-01-31</td>\n",
       "      <td>IT</td>\n",
       "    </tr>\n",
       "    <tr>\n",
       "      <th>3</th>\n",
       "      <td>5.0</td>\n",
       "      <td>2021-02-28</td>\n",
       "      <td>HR-analytics</td>\n",
       "    </tr>\n",
       "  </tbody>\n",
       "</table>\n",
       "</div>"
      ],
      "text/plain": [
       "   AVG(Score)        Date    Department\n",
       "0         5.0  2021-01-31      HR-admin\n",
       "1         5.0  2021-01-31  HR-analytics\n",
       "2         5.0  2021-01-31            IT\n",
       "3         5.0  2021-02-28  HR-analytics"
      ]
     },
     "execution_count": 13,
     "metadata": {},
     "output_type": "execute_result"
    }
   ],
   "source": [
    "df"
   ]
  },
  {
   "cell_type": "markdown",
   "id": "impressive-patient",
   "metadata": {},
   "source": [
    "Почитать: https://medium.com/@bigdataschool/%D0%B8%D0%BD%D1%82%D0%B5%D0%B3%D1%80%D0%B0%D1%86%D0%B8%D1%8F-sqlite-%D0%B8-pandas-456d813462c5"
   ]
  }
 ],
 "metadata": {
  "kernelspec": {
   "display_name": "Python 3",
   "language": "python",
   "name": "python3"
  },
  "language_info": {
   "codemirror_mode": {
    "name": "ipython",
    "version": 3
   },
   "file_extension": ".py",
   "mimetype": "text/x-python",
   "name": "python",
   "nbconvert_exporter": "python",
   "pygments_lexer": "ipython3",
   "version": "3.8.8"
  }
 },
 "nbformat": 4,
 "nbformat_minor": 5
}
